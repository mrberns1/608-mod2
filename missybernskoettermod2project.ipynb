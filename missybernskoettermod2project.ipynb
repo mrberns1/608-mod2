{
 "cells": [
  {
   "cell_type": "code",
   "execution_count": 1,
   "id": "315cca78-b0cf-4c93-aeb6-b65363fac8ce",
   "metadata": {},
   "outputs": [],
   "source": [
    "#missybernskoetter_82922"
   ]
  },
  {
   "cell_type": "code",
   "execution_count": 2,
   "id": "328c0dab-255d-467a-b759-a2f32d01e1a4",
   "metadata": {},
   "outputs": [
    {
     "data": {
      "text/plain": [
       "397"
      ]
     },
     "execution_count": 2,
     "metadata": {},
     "output_type": "execute_result"
    }
   ],
   "source": [
    "grades = [85, 93, 45, 89, 85]\n",
    "sum(grades)"
   ]
  },
  {
   "cell_type": "code",
   "execution_count": 3,
   "id": "98acaade-8a28-465c-ae5a-57fb853475fe",
   "metadata": {},
   "outputs": [
    {
     "data": {
      "text/plain": [
       "5"
      ]
     },
     "execution_count": 3,
     "metadata": {},
     "output_type": "execute_result"
    }
   ],
   "source": [
    "len(grades)"
   ]
  },
  {
   "cell_type": "code",
   "execution_count": 4,
   "id": "e2274201-2c48-42d5-b25c-c8d73719e9f2",
   "metadata": {},
   "outputs": [
    {
     "data": {
      "text/plain": [
       "79.4"
      ]
     },
     "execution_count": 4,
     "metadata": {},
     "output_type": "execute_result"
    }
   ],
   "source": [
    "sum(grades) / len(grades)"
   ]
  },
  {
   "cell_type": "code",
   "execution_count": 5,
   "id": "745e5c3a-ecd8-4daa-9655-023900e88ae3",
   "metadata": {},
   "outputs": [],
   "source": [
    "import statistics"
   ]
  },
  {
   "cell_type": "code",
   "execution_count": 6,
   "id": "cb4f8d55-1f79-4b72-a90e-db0e55cdb844",
   "metadata": {},
   "outputs": [
    {
     "data": {
      "text/plain": [
       "79.4"
      ]
     },
     "execution_count": 6,
     "metadata": {},
     "output_type": "execute_result"
    }
   ],
   "source": [
    "statistics.mean(grades)"
   ]
  },
  {
   "cell_type": "code",
   "execution_count": 7,
   "id": "af1e6c19-7589-410f-911c-79c82dfdab80",
   "metadata": {},
   "outputs": [
    {
     "data": {
      "text/plain": [
       "85"
      ]
     },
     "execution_count": 7,
     "metadata": {},
     "output_type": "execute_result"
    }
   ],
   "source": [
    "statistics.median(grades)"
   ]
  },
  {
   "cell_type": "code",
   "execution_count": 8,
   "id": "49c6ba95-7de5-48f2-94d2-3ad5d3460c5b",
   "metadata": {},
   "outputs": [
    {
     "data": {
      "text/plain": [
       "85"
      ]
     },
     "execution_count": 8,
     "metadata": {},
     "output_type": "execute_result"
    }
   ],
   "source": [
    "statistics.mode(grades)"
   ]
  },
  {
   "cell_type": "code",
   "execution_count": 9,
   "id": "70f722de-e58d-4c90-95e8-14a1bc1ec710",
   "metadata": {},
   "outputs": [],
   "source": [
    "surveyanswers = [22, 34, 29, 98, 12, 36, 22, 55]"
   ]
  },
  {
   "cell_type": "code",
   "execution_count": 10,
   "id": "a1dfa873-84d6-4ea5-b9f8-911835118ff2",
   "metadata": {},
   "outputs": [
    {
     "data": {
      "text/plain": [
       "8"
      ]
     },
     "execution_count": 10,
     "metadata": {},
     "output_type": "execute_result"
    }
   ],
   "source": [
    "len(surveyanswers)"
   ]
  },
  {
   "cell_type": "code",
   "execution_count": 11,
   "id": "4f7cb138-a50a-40a9-ad73-a6f334654e8e",
   "metadata": {},
   "outputs": [
    {
     "data": {
      "text/plain": [
       "308"
      ]
     },
     "execution_count": 11,
     "metadata": {},
     "output_type": "execute_result"
    }
   ],
   "source": [
    "sum(surveyanswers)"
   ]
  },
  {
   "cell_type": "code",
   "execution_count": 12,
   "id": "904ba360-1f02-454b-a13e-24f3166110f0",
   "metadata": {},
   "outputs": [
    {
     "data": {
      "text/plain": [
       "38.5"
      ]
     },
     "execution_count": 12,
     "metadata": {},
     "output_type": "execute_result"
    }
   ],
   "source": [
    "sum(surveyanswers) / len(surveyanswers)"
   ]
  },
  {
   "cell_type": "code",
   "execution_count": 13,
   "id": "0a130d72-77a2-4a83-a0b7-050ce379c6b0",
   "metadata": {},
   "outputs": [],
   "source": [
    "import statistics"
   ]
  },
  {
   "cell_type": "code",
   "execution_count": 14,
   "id": "4adcad09-df77-463c-bcb1-f70b7677af45",
   "metadata": {},
   "outputs": [
    {
     "data": {
      "text/plain": [
       "38.5"
      ]
     },
     "execution_count": 14,
     "metadata": {},
     "output_type": "execute_result"
    }
   ],
   "source": [
    "statistics.mean(surveyanswers)"
   ]
  },
  {
   "cell_type": "code",
   "execution_count": 15,
   "id": "00268e2e-5944-4f2a-b897-249d36610d04",
   "metadata": {},
   "outputs": [
    {
     "data": {
      "text/plain": [
       "31.5"
      ]
     },
     "execution_count": 15,
     "metadata": {},
     "output_type": "execute_result"
    }
   ],
   "source": [
    "statistics.median(surveyanswers)"
   ]
  },
  {
   "cell_type": "code",
   "execution_count": 16,
   "id": "f9d64882-a379-46cf-87a8-00c7d69bd1e0",
   "metadata": {},
   "outputs": [
    {
     "data": {
      "text/plain": [
       "22"
      ]
     },
     "execution_count": 16,
     "metadata": {},
     "output_type": "execute_result"
    }
   ],
   "source": [
    "statistics.mode(surveyanswers)"
   ]
  },
  {
   "cell_type": "code",
   "execution_count": 17,
   "id": "1b4c0a29-5457-45dc-96a0-4cf1dd098c36",
   "metadata": {},
   "outputs": [],
   "source": [
    "#missybernskoetteruniquework"
   ]
  }
 ],
 "metadata": {
  "kernelspec": {
   "display_name": "Python 3 (ipykernel)",
   "language": "python",
   "name": "python3"
  },
  "language_info": {
   "codemirror_mode": {
    "name": "ipython",
    "version": 3
   },
   "file_extension": ".py",
   "mimetype": "text/x-python",
   "name": "python",
   "nbconvert_exporter": "python",
   "pygments_lexer": "ipython3",
   "version": "3.9.12"
  }
 },
 "nbformat": 4,
 "nbformat_minor": 5
}
