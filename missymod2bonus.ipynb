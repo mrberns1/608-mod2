{
 "cells": [
  {
   "cell_type": "code",
   "execution_count": 1,
   "id": "2817fab7-16d7-4ce4-a194-0c128c4e7727",
   "metadata": {},
   "outputs": [],
   "source": [
    "#missymod2bonus"
   ]
  },
  {
   "cell_type": "code",
   "execution_count": 2,
   "id": "8a73767a-c73b-4103-b5a1-8a81cb6bc200",
   "metadata": {},
   "outputs": [],
   "source": [
    "suicidesperyear = [22, 56, 99, 112, 234, 162, 178, 215, 66, 253, 142, 87, 98, 213, 53, 33, 117, 136, 172, 298]"
   ]
  },
  {
   "cell_type": "code",
   "execution_count": 3,
   "id": "619f0ea9-9973-49c7-84ce-df5be01eec93",
   "metadata": {},
   "outputs": [],
   "source": [
    "homicidesperyear = [15, 23, 54, 66, 87, 21, 112, 154, 167, 132, 64, 77, 143, 178, 200, 266, 149, 176, 89, 92]"
   ]
  },
  {
   "cell_type": "code",
   "execution_count": 4,
   "id": "9a9b8434-22fe-4fc8-aaef-5753ebe5b41f",
   "metadata": {},
   "outputs": [],
   "source": [
    "legalinterventionperyear = [0, 0, 0, 2, 1, 4, 0, 6, 2, 1, 2, 3, 4, 0, 0, 2, 1, 3, 0, 4]"
   ]
  },
  {
   "cell_type": "code",
   "execution_count": 5,
   "id": "43fd0c66-37e1-4b9e-a48d-32e25e7291b0",
   "metadata": {},
   "outputs": [],
   "source": [
    "naturalperyear = [86, 23, 54, 99, 34, 12, 98, 54, 27, 65, 22, 74, 73, 66, 93, 32, 19, 33, 28, 21]"
   ]
  },
  {
   "cell_type": "code",
   "execution_count": 6,
   "id": "b0d18742-f2fa-44d8-8e62-5190f8be1784",
   "metadata": {},
   "outputs": [],
   "source": [
    "undeterminedperyear = [12, 88, 22, 16, 98, 44, 32, 100, 67, 43, 26, 43, 87, 84, 99, 105, 200, 103, 77, 51]"
   ]
  },
  {
   "cell_type": "code",
   "execution_count": 7,
   "id": "94d4ea12-1aed-4c7b-816e-49d6a4ffdf03",
   "metadata": {},
   "outputs": [
    {
     "data": {
      "text/plain": [
       "2746"
      ]
     },
     "execution_count": 7,
     "metadata": {},
     "output_type": "execute_result"
    }
   ],
   "source": [
    "sum(suicidesperyear)"
   ]
  },
  {
   "cell_type": "code",
   "execution_count": 8,
   "id": "19d7fcd0-9ca9-4e73-a79e-b3ec6b00258d",
   "metadata": {},
   "outputs": [
    {
     "data": {
      "text/plain": [
       "20"
      ]
     },
     "execution_count": 8,
     "metadata": {},
     "output_type": "execute_result"
    }
   ],
   "source": [
    "len(suicidesperyear)"
   ]
  },
  {
   "cell_type": "code",
   "execution_count": 9,
   "id": "de337bb2-34ad-481a-852a-8d61817c86f3",
   "metadata": {},
   "outputs": [
    {
     "data": {
      "text/plain": [
       "137.3"
      ]
     },
     "execution_count": 9,
     "metadata": {},
     "output_type": "execute_result"
    }
   ],
   "source": [
    "sum(suicidesperyear) / len(suicidesperyear)"
   ]
  },
  {
   "cell_type": "code",
   "execution_count": 10,
   "id": "2a9cbc0f-5483-4d55-b6c2-6cebb1715842",
   "metadata": {},
   "outputs": [
    {
     "data": {
      "text/plain": [
       "2265"
      ]
     },
     "execution_count": 10,
     "metadata": {},
     "output_type": "execute_result"
    }
   ],
   "source": [
    "sum(homicidesperyear)"
   ]
  },
  {
   "cell_type": "code",
   "execution_count": 11,
   "id": "100bacc3-331a-4b50-832e-f5879b39b49d",
   "metadata": {},
   "outputs": [
    {
     "data": {
      "text/plain": [
       "20"
      ]
     },
     "execution_count": 11,
     "metadata": {},
     "output_type": "execute_result"
    }
   ],
   "source": [
    "len(homicidesperyear)"
   ]
  },
  {
   "cell_type": "code",
   "execution_count": 12,
   "id": "da6b9fc9-509b-48a5-8057-62dd5f3e4f9d",
   "metadata": {},
   "outputs": [
    {
     "data": {
      "text/plain": [
       "113.25"
      ]
     },
     "execution_count": 12,
     "metadata": {},
     "output_type": "execute_result"
    }
   ],
   "source": [
    "sum(homicidesperyear) / len(homicidesperyear)"
   ]
  },
  {
   "cell_type": "code",
   "execution_count": 13,
   "id": "bc195ece-043e-4c07-b8d9-75bfb41014d2",
   "metadata": {},
   "outputs": [
    {
     "data": {
      "text/plain": [
       "35"
      ]
     },
     "execution_count": 13,
     "metadata": {},
     "output_type": "execute_result"
    }
   ],
   "source": [
    "sum(legalinterventionperyear)"
   ]
  },
  {
   "cell_type": "code",
   "execution_count": 14,
   "id": "c0553e38-6bf8-4527-b9a0-b467adf85d19",
   "metadata": {},
   "outputs": [
    {
     "data": {
      "text/plain": [
       "20"
      ]
     },
     "execution_count": 14,
     "metadata": {},
     "output_type": "execute_result"
    }
   ],
   "source": [
    "len(legalinterventionperyear)"
   ]
  },
  {
   "cell_type": "code",
   "execution_count": 15,
   "id": "8d990362-8afe-47de-bb94-cc5151eb3d95",
   "metadata": {},
   "outputs": [
    {
     "data": {
      "text/plain": [
       "1.75"
      ]
     },
     "execution_count": 15,
     "metadata": {},
     "output_type": "execute_result"
    }
   ],
   "source": [
    "sum(legalinterventionperyear) / len(legalinterventionperyear)"
   ]
  },
  {
   "cell_type": "code",
   "execution_count": 16,
   "id": "1bc2b184-ff01-45c7-9da8-0ebf7f2b2c98",
   "metadata": {},
   "outputs": [
    {
     "data": {
      "text/plain": [
       "1013"
      ]
     },
     "execution_count": 16,
     "metadata": {},
     "output_type": "execute_result"
    }
   ],
   "source": [
    "sum(naturalperyear)"
   ]
  },
  {
   "cell_type": "code",
   "execution_count": 17,
   "id": "b931c070-a1ea-4981-97ff-65c98efe36e2",
   "metadata": {},
   "outputs": [
    {
     "data": {
      "text/plain": [
       "20"
      ]
     },
     "execution_count": 17,
     "metadata": {},
     "output_type": "execute_result"
    }
   ],
   "source": [
    "len(naturalperyear)"
   ]
  },
  {
   "cell_type": "code",
   "execution_count": 18,
   "id": "bfabb982-41ca-4119-8cd2-c023219ac7b3",
   "metadata": {},
   "outputs": [
    {
     "data": {
      "text/plain": [
       "50.65"
      ]
     },
     "execution_count": 18,
     "metadata": {},
     "output_type": "execute_result"
    }
   ],
   "source": [
    "sum(naturalperyear) / len(naturalperyear)"
   ]
  },
  {
   "cell_type": "code",
   "execution_count": 19,
   "id": "13ac2570-9a33-4699-bb78-f6579b985f6c",
   "metadata": {},
   "outputs": [
    {
     "data": {
      "text/plain": [
       "1397"
      ]
     },
     "execution_count": 19,
     "metadata": {},
     "output_type": "execute_result"
    }
   ],
   "source": [
    "sum(undeterminedperyear)"
   ]
  },
  {
   "cell_type": "code",
   "execution_count": 20,
   "id": "3ada5ebe-666e-47cd-908d-bd9e17bfad6f",
   "metadata": {},
   "outputs": [
    {
     "data": {
      "text/plain": [
       "20"
      ]
     },
     "execution_count": 20,
     "metadata": {},
     "output_type": "execute_result"
    }
   ],
   "source": [
    "len(undeterminedperyear)"
   ]
  },
  {
   "cell_type": "code",
   "execution_count": 21,
   "id": "8872a881-6acb-4b94-a13c-9ddc76211dbe",
   "metadata": {},
   "outputs": [
    {
     "data": {
      "text/plain": [
       "69.85"
      ]
     },
     "execution_count": 21,
     "metadata": {},
     "output_type": "execute_result"
    }
   ],
   "source": [
    "sum(undeterminedperyear) / len(undeterminedperyear)"
   ]
  },
  {
   "cell_type": "code",
   "execution_count": 22,
   "id": "13902067-8d54-49fd-b97c-606abc9138dc",
   "metadata": {},
   "outputs": [],
   "source": [
    "import statistics"
   ]
  },
  {
   "cell_type": "code",
   "execution_count": 23,
   "id": "0f3db0e6-7c12-4182-980f-c4e5be70c2bb",
   "metadata": {},
   "outputs": [
    {
     "data": {
      "text/plain": [
       "137.3"
      ]
     },
     "execution_count": 23,
     "metadata": {},
     "output_type": "execute_result"
    }
   ],
   "source": [
    "statistics.mean (suicidesperyear)"
   ]
  },
  {
   "cell_type": "code",
   "execution_count": 24,
   "id": "712c5bd8-daa6-4f31-a4fa-1e997917f0b9",
   "metadata": {},
   "outputs": [
    {
     "data": {
      "text/plain": [
       "126.5"
      ]
     },
     "execution_count": 24,
     "metadata": {},
     "output_type": "execute_result"
    }
   ],
   "source": [
    "statistics.median (suicidesperyear)"
   ]
  },
  {
   "cell_type": "code",
   "execution_count": 25,
   "id": "35e77714-cf59-4b1f-a9fd-b84a51bf9246",
   "metadata": {},
   "outputs": [
    {
     "data": {
      "text/plain": [
       "22"
      ]
     },
     "execution_count": 25,
     "metadata": {},
     "output_type": "execute_result"
    }
   ],
   "source": [
    "statistics.mode (suicidesperyear)"
   ]
  },
  {
   "cell_type": "code",
   "execution_count": 26,
   "id": "272bd491-636a-42cc-8aeb-1621ada0170e",
   "metadata": {},
   "outputs": [
    {
     "data": {
      "text/plain": [
       "113.25"
      ]
     },
     "execution_count": 26,
     "metadata": {},
     "output_type": "execute_result"
    }
   ],
   "source": [
    "statistics.mean (homicidesperyear)"
   ]
  },
  {
   "cell_type": "code",
   "execution_count": 27,
   "id": "e341520f-dfcf-40dd-bfe4-81d0574d1a7b",
   "metadata": {},
   "outputs": [
    {
     "data": {
      "text/plain": [
       "102.0"
      ]
     },
     "execution_count": 27,
     "metadata": {},
     "output_type": "execute_result"
    }
   ],
   "source": [
    "statistics.median (homicidesperyear)"
   ]
  },
  {
   "cell_type": "code",
   "execution_count": 28,
   "id": "1be3f1b5-0907-404c-b242-5a4bf8bb3325",
   "metadata": {},
   "outputs": [
    {
     "data": {
      "text/plain": [
       "15"
      ]
     },
     "execution_count": 28,
     "metadata": {},
     "output_type": "execute_result"
    }
   ],
   "source": [
    "statistics.mode (homicidesperyear)"
   ]
  },
  {
   "cell_type": "code",
   "execution_count": 29,
   "id": "afb42d0b-358b-4e1b-8717-ce1addcccf9c",
   "metadata": {},
   "outputs": [
    {
     "data": {
      "text/plain": [
       "1.75"
      ]
     },
     "execution_count": 29,
     "metadata": {},
     "output_type": "execute_result"
    }
   ],
   "source": [
    "statistics.mean (legalinterventionperyear)"
   ]
  },
  {
   "cell_type": "code",
   "execution_count": 30,
   "id": "c3be9672-30f0-40a7-909e-64ea7ebaa560",
   "metadata": {},
   "outputs": [
    {
     "data": {
      "text/plain": [
       "1.5"
      ]
     },
     "execution_count": 30,
     "metadata": {},
     "output_type": "execute_result"
    }
   ],
   "source": [
    "statistics.median (legalinterventionperyear)"
   ]
  },
  {
   "cell_type": "code",
   "execution_count": 31,
   "id": "1a51aebf-7694-45f3-bcca-9d27db88cb35",
   "metadata": {},
   "outputs": [
    {
     "data": {
      "text/plain": [
       "0"
      ]
     },
     "execution_count": 31,
     "metadata": {},
     "output_type": "execute_result"
    }
   ],
   "source": [
    "statistics.mode (legalinterventionperyear)"
   ]
  },
  {
   "cell_type": "code",
   "execution_count": 32,
   "id": "1db0be11-dc38-4e2f-a000-97b857d30d90",
   "metadata": {},
   "outputs": [
    {
     "data": {
      "text/plain": [
       "50.65"
      ]
     },
     "execution_count": 32,
     "metadata": {},
     "output_type": "execute_result"
    }
   ],
   "source": [
    "statistics.mean (naturalperyear)"
   ]
  },
  {
   "cell_type": "code",
   "execution_count": 33,
   "id": "ec96b6cc-87b2-425b-824d-983c1e9e1b3e",
   "metadata": {},
   "outputs": [
    {
     "data": {
      "text/plain": [
       "44.0"
      ]
     },
     "execution_count": 33,
     "metadata": {},
     "output_type": "execute_result"
    }
   ],
   "source": [
    "statistics.median (naturalperyear)"
   ]
  },
  {
   "cell_type": "code",
   "execution_count": 34,
   "id": "bd3c8d1d-de07-45f6-b6c5-770b74080445",
   "metadata": {},
   "outputs": [
    {
     "data": {
      "text/plain": [
       "54"
      ]
     },
     "execution_count": 34,
     "metadata": {},
     "output_type": "execute_result"
    }
   ],
   "source": [
    "statistics.mode (naturalperyear)"
   ]
  },
  {
   "cell_type": "code",
   "execution_count": 35,
   "id": "98864a92-fee8-4496-8745-640669b86f9a",
   "metadata": {},
   "outputs": [
    {
     "data": {
      "text/plain": [
       "69.85"
      ]
     },
     "execution_count": 35,
     "metadata": {},
     "output_type": "execute_result"
    }
   ],
   "source": [
    "statistics.mean (undeterminedperyear)"
   ]
  },
  {
   "cell_type": "code",
   "execution_count": 36,
   "id": "ec08a566-acff-4c31-88d5-57d4faf9befc",
   "metadata": {},
   "outputs": [
    {
     "data": {
      "text/plain": [
       "72.0"
      ]
     },
     "execution_count": 36,
     "metadata": {},
     "output_type": "execute_result"
    }
   ],
   "source": [
    "statistics.median (undeterminedperyear)"
   ]
  },
  {
   "cell_type": "code",
   "execution_count": 37,
   "id": "9c05a4de-1f72-446a-a5fd-32391634ff88",
   "metadata": {},
   "outputs": [
    {
     "data": {
      "text/plain": [
       "43"
      ]
     },
     "execution_count": 37,
     "metadata": {},
     "output_type": "execute_result"
    }
   ],
   "source": [
    "statistics.mode (undeterminedperyear)"
   ]
  },
  {
   "cell_type": "code",
   "execution_count": 38,
   "id": "b9ce31d5-486c-4e43-9346-a207a79fe126",
   "metadata": {},
   "outputs": [],
   "source": [
    "#missymod2bonus"
   ]
  }
 ],
 "metadata": {
  "kernelspec": {
   "display_name": "Python 3 (ipykernel)",
   "language": "python",
   "name": "python3"
  },
  "language_info": {
   "codemirror_mode": {
    "name": "ipython",
    "version": 3
   },
   "file_extension": ".py",
   "mimetype": "text/x-python",
   "name": "python",
   "nbconvert_exporter": "python",
   "pygments_lexer": "ipython3",
   "version": "3.9.12"
  }
 },
 "nbformat": 4,
 "nbformat_minor": 5
}
